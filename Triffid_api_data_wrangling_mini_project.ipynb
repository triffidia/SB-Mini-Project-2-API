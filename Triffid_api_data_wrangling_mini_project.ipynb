{
 "cells": [
  {
   "cell_type": "markdown",
   "metadata": {},
   "source": [
    "This exercise will require you to pull some data from the Qunadl API. Qaundl is currently the most widely used aggregator of financial market data."
   ]
  },
  {
   "cell_type": "markdown",
   "metadata": {},
   "source": [
    "As a first step, you will need to register a free account on the http://www.quandl.com website."
   ]
  },
  {
   "cell_type": "markdown",
   "metadata": {},
   "source": [
    "After you register, you will be provided with a unique API key, that you should store:"
   ]
  },
  {
   "cell_type": "code",
   "execution_count": 1,
   "metadata": {},
   "outputs": [],
   "source": [
    "# Store the API key as a string - according to PEP8, constants are always named in all upper case\n",
    "API_KEY = ''"
   ]
  },
  {
   "cell_type": "markdown",
   "metadata": {},
   "source": [
    "Qaundl has a large number of data sources, but, unfortunately, most of them require a Premium subscription. Still, there are also a good number of free datasets."
   ]
  },
  {
   "cell_type": "markdown",
   "metadata": {},
   "source": [
    "For this mini project, we will focus on equities data from the Frankfurt Stock Exhange (FSE), which is available for free. We'll try and analyze the stock prices of a company called Carl Zeiss Meditec, which manufactures tools for eye examinations, as well as medical lasers for laser eye surgery: https://www.zeiss.com/meditec/int/home.html. The company is listed under the stock ticker AFX_X."
   ]
  },
  {
   "cell_type": "markdown",
   "metadata": {},
   "source": [
    "You can find the detailed Quandl API instructions here: https://docs.quandl.com/docs/time-series"
   ]
  },
  {
   "cell_type": "markdown",
   "metadata": {},
   "source": [
    "While there is a dedicated Python package for connecting to the Quandl API, we would prefer that you use the *requests* package, which can be easily downloaded using *pip* or *conda*. You can find the documentation for the package here: http://docs.python-requests.org/en/master/ "
   ]
  },
  {
   "cell_type": "markdown",
   "metadata": {},
   "source": [
    "Finally, apart from the *requests* package, you are encouraged to not use any third party Python packages, such as *pandas*, and instead focus on what's available in the Python Standard Library (the *collections* module might come in handy: https://pymotw.com/3/collections/ ).\n",
    "Also, since you won't have access to DataFrames, you are encouraged to us Python's native data structures - preferably dictionaries, though some questions can also be answered using lists.\n",
    "You can read more on these data structures here: https://docs.python.org/3/tutorial/datastructures.html"
   ]
  },
  {
   "cell_type": "markdown",
   "metadata": {},
   "source": [
    "Keep in mind that the JSON responses you will be getting from the API map almost one-to-one to Python's dictionaries. Unfortunately, they can be very nested, so make sure you read up on indexing dictionaries in the documentation provided above."
   ]
  },
  {
   "cell_type": "code",
   "execution_count": 2,
   "metadata": {},
   "outputs": [],
   "source": [
    "# First, import the relevant modules\n",
    "import requests\n",
    "import json\n"
   ]
  },
  {
   "cell_type": "code",
   "execution_count": 3,
   "metadata": {},
   "outputs": [],
   "source": [
    "# Now, call the Quandl API and pull out a small sample of the data (only one day) to get a glimpse\n",
    "# into the JSON structure that will be returned\n",
    "r = requests.get('https://www.quandl.com/api/v3/datasets/FSE/AFX_X/data.json?start_date=2012-11-01&end_date=2012-11-02&api_key=API_KEY')\n"
   ]
  },
  {
   "cell_type": "code",
   "execution_count": 4,
   "metadata": {},
   "outputs": [
    {
     "data": {
      "text/plain": [
       "{'dataset_data': {'limit': None,\n",
       "  'transform': None,\n",
       "  'column_index': None,\n",
       "  'column_names': ['Date',\n",
       "   'Open',\n",
       "   'High',\n",
       "   'Low',\n",
       "   'Close',\n",
       "   'Change',\n",
       "   'Traded Volume',\n",
       "   'Turnover',\n",
       "   'Last Price of the Day',\n",
       "   'Daily Traded Units',\n",
       "   'Daily Turnover'],\n",
       "  'start_date': '2012-11-01',\n",
       "  'end_date': '2012-11-02',\n",
       "  'frequency': 'daily',\n",
       "  'data': [['2012-11-02',\n",
       "    21.33,\n",
       "    21.33,\n",
       "    20.99,\n",
       "    21.26,\n",
       "    None,\n",
       "    23739.0,\n",
       "    503243.0,\n",
       "    None,\n",
       "    None,\n",
       "    None],\n",
       "   ['2012-11-01',\n",
       "    21.14,\n",
       "    21.29,\n",
       "    20.8,\n",
       "    21.29,\n",
       "    None,\n",
       "    29901.0,\n",
       "    631083.0,\n",
       "    None,\n",
       "    None,\n",
       "    None]],\n",
       "  'collapse': None,\n",
       "  'order': None}}"
      ]
     },
     "execution_count": 4,
     "metadata": {},
     "output_type": "execute_result"
    }
   ],
   "source": [
    "# Inspect the JSON structure of the object you created, and take note of how nested it is,\n",
    "# as well as the overall structure\n",
    "r.json()"
   ]
  },
  {
   "cell_type": "markdown",
   "metadata": {},
   "source": [
    "These are your tasks for this mini project:\n",
    "\n",
    "1. Collect data from the Franfurt Stock Exchange, for the ticker AFX_X, for the whole year 2017 (keep in mind that the date format is YYYY-MM-DD).\n",
    "2. Convert the returned JSON object into a Python dictionary.\n",
    "3. Calculate what the highest and lowest opening prices were for the stock in this period.\n",
    "4. What was the largest change in any one day (based on High and Low price)?\n",
    "5. What was the largest change between any two days (based on Closing Price)?\n",
    "6. What was the average daily trading volume during this year?\n",
    "7. (Optional) What was the median trading volume during this year. (Note: you may need to implement your own function for calculating the median.)"
   ]
  },
  {
   "cell_type": "code",
   "execution_count": 5,
   "metadata": {},
   "outputs": [],
   "source": [
    "#Task 1: Collect data from the Franfurt Stock Exchange, for the ticker AFX_X, for the whole year 2017 (keep in mind that the date format is YYYY-MM-DD).\n",
    "#import modules\n",
    "import json\n",
    "import requests\n",
    "\n",
    "#call the Quandl API to return json file\n",
    "req = requests.get('https://www.quandl.com/api/v3/datasets/FSE/AFX_X/data.json?start_date=2017-01-01&end_date=2017-12-31&api_key=API_KEY')\n"
   ]
  },
  {
   "cell_type": "code",
   "execution_count": 6,
   "metadata": {},
   "outputs": [
    {
     "name": "stdout",
     "output_type": "stream",
     "text": [
      "<class 'dict'>\n"
     ]
    }
   ],
   "source": [
    "#Task 2: Convert the returned JSON object into a Python dictionary.\n",
    "#convert json to dict\n",
    "req_dict = req.json()\n",
    "print(type(req_dict))\n"
   ]
  },
  {
   "cell_type": "code",
   "execution_count": 7,
   "metadata": {},
   "outputs": [
    {
     "name": "stdout",
     "output_type": "stream",
     "text": [
      "The highest opening value for 2017 was 53.11\n",
      "The lowest opening value for 2017 was 34.0\n"
     ]
    }
   ],
   "source": [
    "#Task 3: Calculate what the highest and lowest opening prices were for the stock in this period.\n",
    "#create a list of all the opening values\n",
    "opening = [item[1] for item in req_dict['dataset_data']['data']]\n",
    "\n",
    "#find highest opening value\n",
    "max_opening = max(i for i in opening if i != None)\n",
    "print(\"The highest opening value for 2017 was \" + str(max_opening))\n",
    "\n",
    "#find lowest opening value\n",
    "min_opening = min(i for i in opening if i != None)\n",
    "print(\"The lowest opening value for 2017 was \" + str(min_opening))\n"
   ]
  },
  {
   "cell_type": "code",
   "execution_count": 8,
   "metadata": {},
   "outputs": [
    {
     "name": "stdout",
     "output_type": "stream",
     "text": [
      "The largest change in value for one day was 2.8100000000000023\n"
     ]
    }
   ],
   "source": [
    "#Task 4: What was the largest change in any one day (based on High and Low price)?\n",
    "#create a list of highs and a list of lows\n",
    "highs = [item[2] for item in req_dict['dataset_data']['data']]\n",
    "lows = [item[3] for item in req_dict['dataset_data']['data']]\n",
    "\n",
    "#create a list of amount of change per day and find the maximum\n",
    "max_change = max([highs[i]-lows[i] for i in range(len(highs))])\n",
    "print(\"The largest change in value for one day was \" + str(max_change))"
   ]
  },
  {
   "cell_type": "code",
   "execution_count": 9,
   "metadata": {},
   "outputs": [
    {
     "name": "stdout",
     "output_type": "stream",
     "text": [
      "The largest change in closing value for two days was 2.559999999999995\n"
     ]
    }
   ],
   "source": [
    "#Task 5: What was the largest change between any two days (based on Closing Price)?\n",
    "#create a list of all closing values\n",
    "closing = [item[4] for item in req_dict['dataset_data']['data']]\n",
    "\n",
    "#find largest absolute change between closing for each two days \n",
    "max_two_day_change = max([abs(closing[i+1]-closing[i]) for i in range(len(closing)-1)])\n",
    "print(\"The largest change in closing value for two days was \" + str(max_two_day_change))"
   ]
  },
  {
   "cell_type": "code",
   "execution_count": 10,
   "metadata": {},
   "outputs": [
    {
     "name": "stdout",
     "output_type": "stream",
     "text": [
      "The average daily trading volume for 2017 was 89124.33725490196\n"
     ]
    }
   ],
   "source": [
    "#Task 6: What was the average daily trading volume during this year?\n",
    "#create a list of daily trading volumes\n",
    "traded = [item[6] for item in req_dict['dataset_data']['data']]\n",
    "\n",
    "#find average daily traded volume\n",
    "average_traded = sum(traded)/len(traded)\n",
    "print(\"The average daily trading volume for 2017 was \" + str(average_traded))"
   ]
  },
  {
   "cell_type": "code",
   "execution_count": 11,
   "metadata": {},
   "outputs": [
    {
     "name": "stdout",
     "output_type": "stream",
     "text": [
      "The median daily trading volume for 2017 was 76286.0\n"
     ]
    }
   ],
   "source": [
    "#Task 7: (Optional) What was the median trading volume during this year?\n",
    "#create a list of daily trading volumes and sort it\n",
    "traded = [item[6] for item in req_dict['dataset_data']['data']]\n",
    "traded.sort()\n",
    "\n",
    "#find median trading volume\n",
    "median_traded = traded[int(len(traded)/2)]\n",
    "print(\"The median daily trading volume for 2017 was \" + str(median_traded))"
   ]
  }
 ],
 "metadata": {
  "kernelspec": {
   "display_name": "Python 3",
   "language": "python",
   "name": "python3"
  },
  "language_info": {
   "codemirror_mode": {
    "name": "ipython",
    "version": 3
   },
   "file_extension": ".py",
   "mimetype": "text/x-python",
   "name": "python",
   "nbconvert_exporter": "python",
   "pygments_lexer": "ipython3",
   "version": "3.7.4"
  }
 },
 "nbformat": 4,
 "nbformat_minor": 2
}
